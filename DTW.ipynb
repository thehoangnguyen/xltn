{
 "cells": [
  {
   "cell_type": "code",
   "execution_count": 1,
   "id": "48a4a226",
   "metadata": {},
   "outputs": [],
   "source": [
    "%matplotlib inline\n",
    "\n",
    "import os\n",
    "import glob\n",
    "import librosa\n",
    "import numpy as np"
   ]
  },
  {
   "cell_type": "code",
   "execution_count": 2,
   "id": "3a846124",
   "metadata": {},
   "outputs": [
    {
     "name": "stdout",
     "output_type": "stream",
     "text": [
      "audio\\c1.wav\n"
     ]
    }
   ],
   "source": [
    "plain_path = r'audio\\c{val}.wav'\n",
    "variable_path = lambda val: plain_path.format(val=val)\n",
    "print(variable_path('1'))"
   ]
  },
  {
   "cell_type": "code",
   "execution_count": 3,
   "id": "03871ab9",
   "metadata": {},
   "outputs": [],
   "source": [
    "labels = {'len', 'xuong', 'trai', 'phai', 'nhay', 'ban','A', 'B'}"
   ]
  },
  {
   "cell_type": "code",
   "execution_count": 4,
   "id": "bcbb3b10",
   "metadata": {},
   "outputs": [],
   "source": [
    "# We will use only N occurences per word\n",
    "N = 25"
   ]
  },
  {
   "cell_type": "code",
   "execution_count": 5,
   "id": "fcb87ff4",
   "metadata": {},
   "outputs": [
    {
     "name": "stderr",
     "output_type": "stream",
     "text": [
      "C:\\Users\\HP PC\\AppData\\Local\\Temp\\ipykernel_10460\\3670627089.py:11: FutureWarning: Pass y=[-0.00152588 -0.00135803 -0.00138855 ... -0.0002594   0.00039673\n",
      "  0.00111389], sr=22050 as keyword args. From version 0.10 passing these as positional arguments will result in an error\n",
      "  mfcc = librosa.feature.mfcc(y, sr, n_mfcc=13)\n"
     ]
    }
   ],
   "source": [
    "mfccs = []\n",
    "true_labels = []\n",
    "    \n",
    "for i in range (1,100):        \n",
    "    sounds = glob.glob(os.path.join(variable_path(i)))\n",
    "    np.random.shuffle(sounds)\n",
    "    sounds = sounds[:N]\n",
    "for l in labels:    \n",
    "    for s in sounds:\n",
    "        y, sr = librosa.load(s)\n",
    "        mfcc = librosa.feature.mfcc(y, sr, n_mfcc=13)\n",
    "        mfccs.append(mfcc.T)\n",
    "        true_labels.append(l)\n",
    "        \n",
    "mfccs = np.array(mfccs)\n",
    "true_labels = np.array(true_labels)"
   ]
  },
  {
   "cell_type": "code",
   "execution_count": 11,
   "id": "d0b1c6e5",
   "metadata": {},
   "outputs": [],
   "source": [
    "val_percent = 1\n",
    "n_val = int(val_percent * len(true_labels))\n",
    "\n",
    "I = np.random.permutation(len(true_labels))\n",
    "I_val, I_train = I[:n_val], I[n_val:]"
   ]
  },
  {
   "cell_type": "code",
   "execution_count": 12,
   "id": "24bbc887",
   "metadata": {},
   "outputs": [],
   "source": [
    "from dtw import dtw\n",
    "\n",
    "def cross_validation(train_indices, val_indices):\n",
    "    score = 0.0\n",
    "\n",
    "    for i in val_indices:\n",
    "        x = mfccs[i]\n",
    "\n",
    "        dmin, jmin = np.inf, -1\n",
    "        for j in train_indices:\n",
    "            y = mfccs[j]\n",
    "            d, _, _, _ = dtw(x, y, dist=lambda x, y: np.linalg.norm(x - y, ord=1))\n",
    "            if d < dmin:\n",
    "                dmin = d\n",
    "                jmin = j\n",
    "\n",
    "        score += 1.0 if (true_labels[i] == true_labels[jmin]) else 0.0\n",
    "        \n",
    "    return score / len(val_indices)"
   ]
  },
  {
   "cell_type": "code",
   "execution_count": 13,
   "id": "b5b7e575",
   "metadata": {},
   "outputs": [
    {
     "data": {
      "text/plain": [
       "array([], dtype=int32)"
      ]
     },
     "execution_count": 13,
     "metadata": {},
     "output_type": "execute_result"
    }
   ],
   "source": [
    "I_train"
   ]
  },
  {
   "cell_type": "code",
   "execution_count": 14,
   "id": "3f6111af",
   "metadata": {},
   "outputs": [
    {
     "data": {
      "text/plain": [
       "array([4, 7, 5, 3, 6, 0, 2, 1])"
      ]
     },
     "execution_count": 14,
     "metadata": {},
     "output_type": "execute_result"
    }
   ],
   "source": [
    "I_val"
   ]
  },
  {
   "cell_type": "code",
   "execution_count": 15,
   "id": "90601ee6",
   "metadata": {},
   "outputs": [
    {
     "name": "stdout",
     "output_type": "stream",
     "text": [
      "Recognition rate 12.5%\n"
     ]
    }
   ],
   "source": [
    "rec_rate = cross_validation(I_train, I_val)\n",
    "print('Recognition rate {}%'.format(100. * rec_rate))"
   ]
  },
  {
   "cell_type": "code",
   "execution_count": null,
   "id": "a820c2bb",
   "metadata": {},
   "outputs": [],
   "source": []
  },
  {
   "cell_type": "code",
   "execution_count": null,
   "id": "013583b3",
   "metadata": {},
   "outputs": [],
   "source": []
  }
 ],
 "metadata": {
  "kernelspec": {
   "display_name": "Python 3 (ipykernel)",
   "language": "python",
   "name": "python3"
  },
  "language_info": {
   "codemirror_mode": {
    "name": "ipython",
    "version": 3
   },
   "file_extension": ".py",
   "mimetype": "text/x-python",
   "name": "python",
   "nbconvert_exporter": "python",
   "pygments_lexer": "ipython3",
   "version": "3.9.12"
  }
 },
 "nbformat": 4,
 "nbformat_minor": 5
}
